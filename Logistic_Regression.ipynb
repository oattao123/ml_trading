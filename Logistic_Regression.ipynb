{
 "cells": [
  {
   "cell_type": "code",
   "execution_count": 907,
   "metadata": {},
   "outputs": [],
   "source": [
    "import pandas as pd\n",
    "import yfinance as yf\n",
    "import statsmodels.api as sm"
   ]
  },
  {
   "cell_type": "code",
   "execution_count": 908,
   "metadata": {},
   "outputs": [
    {
     "name": "stderr",
     "output_type": "stream",
     "text": [
      "[*********************100%***********************]  1 of 1 completed\n"
     ]
    }
   ],
   "source": [
    "data = yf.download('BTC-USD')"
   ]
  },
  {
   "cell_type": "code",
   "execution_count": 909,
   "metadata": {},
   "outputs": [
    {
     "data": {
      "text/html": [
       "<div>\n",
       "<style scoped>\n",
       "    .dataframe tbody tr th:only-of-type {\n",
       "        vertical-align: middle;\n",
       "    }\n",
       "\n",
       "    .dataframe tbody tr th {\n",
       "        vertical-align: top;\n",
       "    }\n",
       "\n",
       "    .dataframe thead th {\n",
       "        text-align: right;\n",
       "    }\n",
       "</style>\n",
       "<table border=\"1\" class=\"dataframe\">\n",
       "  <thead>\n",
       "    <tr style=\"text-align: right;\">\n",
       "      <th></th>\n",
       "      <th>Open</th>\n",
       "      <th>High</th>\n",
       "      <th>Low</th>\n",
       "      <th>Close</th>\n",
       "      <th>Adj Close</th>\n",
       "      <th>Volume</th>\n",
       "    </tr>\n",
       "    <tr>\n",
       "      <th>Date</th>\n",
       "      <th></th>\n",
       "      <th></th>\n",
       "      <th></th>\n",
       "      <th></th>\n",
       "      <th></th>\n",
       "      <th></th>\n",
       "    </tr>\n",
       "  </thead>\n",
       "  <tbody>\n",
       "    <tr>\n",
       "      <th>2014-09-17</th>\n",
       "      <td>465.864014</td>\n",
       "      <td>468.174011</td>\n",
       "      <td>452.421997</td>\n",
       "      <td>457.334015</td>\n",
       "      <td>457.334015</td>\n",
       "      <td>21056800</td>\n",
       "    </tr>\n",
       "    <tr>\n",
       "      <th>2014-09-18</th>\n",
       "      <td>456.859985</td>\n",
       "      <td>456.859985</td>\n",
       "      <td>413.104004</td>\n",
       "      <td>424.440002</td>\n",
       "      <td>424.440002</td>\n",
       "      <td>34483200</td>\n",
       "    </tr>\n",
       "    <tr>\n",
       "      <th>2014-09-19</th>\n",
       "      <td>424.102997</td>\n",
       "      <td>427.834991</td>\n",
       "      <td>384.532013</td>\n",
       "      <td>394.795990</td>\n",
       "      <td>394.795990</td>\n",
       "      <td>37919700</td>\n",
       "    </tr>\n",
       "    <tr>\n",
       "      <th>2014-09-20</th>\n",
       "      <td>394.673004</td>\n",
       "      <td>423.295990</td>\n",
       "      <td>389.882996</td>\n",
       "      <td>408.903992</td>\n",
       "      <td>408.903992</td>\n",
       "      <td>36863600</td>\n",
       "    </tr>\n",
       "    <tr>\n",
       "      <th>2014-09-21</th>\n",
       "      <td>408.084991</td>\n",
       "      <td>412.425995</td>\n",
       "      <td>393.181000</td>\n",
       "      <td>398.821014</td>\n",
       "      <td>398.821014</td>\n",
       "      <td>26580100</td>\n",
       "    </tr>\n",
       "    <tr>\n",
       "      <th>...</th>\n",
       "      <td>...</td>\n",
       "      <td>...</td>\n",
       "      <td>...</td>\n",
       "      <td>...</td>\n",
       "      <td>...</td>\n",
       "      <td>...</td>\n",
       "    </tr>\n",
       "    <tr>\n",
       "      <th>2024-08-22</th>\n",
       "      <td>61168.316406</td>\n",
       "      <td>61408.109375</td>\n",
       "      <td>59815.253906</td>\n",
       "      <td>60381.914062</td>\n",
       "      <td>60381.914062</td>\n",
       "      <td>27625734377</td>\n",
       "    </tr>\n",
       "    <tr>\n",
       "      <th>2024-08-23</th>\n",
       "      <td>60380.953125</td>\n",
       "      <td>64947.062500</td>\n",
       "      <td>60372.050781</td>\n",
       "      <td>64094.355469</td>\n",
       "      <td>64094.355469</td>\n",
       "      <td>42530509233</td>\n",
       "    </tr>\n",
       "    <tr>\n",
       "      <th>2024-08-24</th>\n",
       "      <td>64103.871094</td>\n",
       "      <td>64513.789062</td>\n",
       "      <td>63619.917969</td>\n",
       "      <td>64178.992188</td>\n",
       "      <td>64178.992188</td>\n",
       "      <td>21430585163</td>\n",
       "    </tr>\n",
       "    <tr>\n",
       "      <th>2024-08-25</th>\n",
       "      <td>64176.367188</td>\n",
       "      <td>64996.421875</td>\n",
       "      <td>63833.519531</td>\n",
       "      <td>64333.542969</td>\n",
       "      <td>64333.542969</td>\n",
       "      <td>18827683555</td>\n",
       "    </tr>\n",
       "    <tr>\n",
       "      <th>2024-08-27</th>\n",
       "      <td>62856.585938</td>\n",
       "      <td>63196.898438</td>\n",
       "      <td>62727.781250</td>\n",
       "      <td>63050.082031</td>\n",
       "      <td>63050.082031</td>\n",
       "      <td>27962562560</td>\n",
       "    </tr>\n",
       "  </tbody>\n",
       "</table>\n",
       "<p>3632 rows × 6 columns</p>\n",
       "</div>"
      ],
      "text/plain": [
       "                    Open          High  ...     Adj Close       Volume\n",
       "Date                                    ...                           \n",
       "2014-09-17    465.864014    468.174011  ...    457.334015     21056800\n",
       "2014-09-18    456.859985    456.859985  ...    424.440002     34483200\n",
       "2014-09-19    424.102997    427.834991  ...    394.795990     37919700\n",
       "2014-09-20    394.673004    423.295990  ...    408.903992     36863600\n",
       "2014-09-21    408.084991    412.425995  ...    398.821014     26580100\n",
       "...                  ...           ...  ...           ...          ...\n",
       "2024-08-22  61168.316406  61408.109375  ...  60381.914062  27625734377\n",
       "2024-08-23  60380.953125  64947.062500  ...  64094.355469  42530509233\n",
       "2024-08-24  64103.871094  64513.789062  ...  64178.992188  21430585163\n",
       "2024-08-25  64176.367188  64996.421875  ...  64333.542969  18827683555\n",
       "2024-08-27  62856.585938  63196.898438  ...  63050.082031  27962562560\n",
       "\n",
       "[3632 rows x 6 columns]"
      ]
     },
     "execution_count": 909,
     "metadata": {},
     "output_type": "execute_result"
    }
   ],
   "source": [
    "data"
   ]
  },
  {
   "cell_type": "code",
   "execution_count": 910,
   "metadata": {},
   "outputs": [],
   "source": [
    "df = data['Adj Close'].pct_change() * 100"
   ]
  },
  {
   "cell_type": "code",
   "execution_count": 911,
   "metadata": {},
   "outputs": [
    {
     "data": {
      "text/plain": [
       "Date\n",
       "2014-09-17         NaN\n",
       "2014-09-18   -7.192558\n",
       "2014-09-19   -6.984265\n",
       "2014-09-20    3.573492\n",
       "2014-09-21   -2.465854\n",
       "                ...   \n",
       "2024-08-22   -1.296730\n",
       "2024-08-23    6.148267\n",
       "2024-08-24    0.132050\n",
       "2024-08-25    0.240812\n",
       "2024-08-27   -1.995011\n",
       "Name: Adj Close, Length: 3632, dtype: float64"
      ]
     },
     "execution_count": 911,
     "metadata": {},
     "output_type": "execute_result"
    }
   ],
   "source": [
    "df"
   ]
  },
  {
   "cell_type": "code",
   "execution_count": 912,
   "metadata": {},
   "outputs": [],
   "source": [
    "df = df.rename(\"Today\")"
   ]
  },
  {
   "cell_type": "code",
   "execution_count": 913,
   "metadata": {},
   "outputs": [],
   "source": [
    "df = df.reset_index()"
   ]
  },
  {
   "cell_type": "code",
   "execution_count": 914,
   "metadata": {},
   "outputs": [
    {
     "data": {
      "text/html": [
       "<div>\n",
       "<style scoped>\n",
       "    .dataframe tbody tr th:only-of-type {\n",
       "        vertical-align: middle;\n",
       "    }\n",
       "\n",
       "    .dataframe tbody tr th {\n",
       "        vertical-align: top;\n",
       "    }\n",
       "\n",
       "    .dataframe thead th {\n",
       "        text-align: right;\n",
       "    }\n",
       "</style>\n",
       "<table border=\"1\" class=\"dataframe\">\n",
       "  <thead>\n",
       "    <tr style=\"text-align: right;\">\n",
       "      <th></th>\n",
       "      <th>Date</th>\n",
       "      <th>Today</th>\n",
       "    </tr>\n",
       "  </thead>\n",
       "  <tbody>\n",
       "    <tr>\n",
       "      <th>0</th>\n",
       "      <td>2014-09-17</td>\n",
       "      <td>NaN</td>\n",
       "    </tr>\n",
       "    <tr>\n",
       "      <th>1</th>\n",
       "      <td>2014-09-18</td>\n",
       "      <td>-7.192558</td>\n",
       "    </tr>\n",
       "    <tr>\n",
       "      <th>2</th>\n",
       "      <td>2014-09-19</td>\n",
       "      <td>-6.984265</td>\n",
       "    </tr>\n",
       "    <tr>\n",
       "      <th>3</th>\n",
       "      <td>2014-09-20</td>\n",
       "      <td>3.573492</td>\n",
       "    </tr>\n",
       "    <tr>\n",
       "      <th>4</th>\n",
       "      <td>2014-09-21</td>\n",
       "      <td>-2.465854</td>\n",
       "    </tr>\n",
       "    <tr>\n",
       "      <th>...</th>\n",
       "      <td>...</td>\n",
       "      <td>...</td>\n",
       "    </tr>\n",
       "    <tr>\n",
       "      <th>3627</th>\n",
       "      <td>2024-08-22</td>\n",
       "      <td>-1.296730</td>\n",
       "    </tr>\n",
       "    <tr>\n",
       "      <th>3628</th>\n",
       "      <td>2024-08-23</td>\n",
       "      <td>6.148267</td>\n",
       "    </tr>\n",
       "    <tr>\n",
       "      <th>3629</th>\n",
       "      <td>2024-08-24</td>\n",
       "      <td>0.132050</td>\n",
       "    </tr>\n",
       "    <tr>\n",
       "      <th>3630</th>\n",
       "      <td>2024-08-25</td>\n",
       "      <td>0.240812</td>\n",
       "    </tr>\n",
       "    <tr>\n",
       "      <th>3631</th>\n",
       "      <td>2024-08-27</td>\n",
       "      <td>-1.995011</td>\n",
       "    </tr>\n",
       "  </tbody>\n",
       "</table>\n",
       "<p>3632 rows × 2 columns</p>\n",
       "</div>"
      ],
      "text/plain": [
       "           Date     Today\n",
       "0    2014-09-17       NaN\n",
       "1    2014-09-18 -7.192558\n",
       "2    2014-09-19 -6.984265\n",
       "3    2014-09-20  3.573492\n",
       "4    2014-09-21 -2.465854\n",
       "...         ...       ...\n",
       "3627 2024-08-22 -1.296730\n",
       "3628 2024-08-23  6.148267\n",
       "3629 2024-08-24  0.132050\n",
       "3630 2024-08-25  0.240812\n",
       "3631 2024-08-27 -1.995011\n",
       "\n",
       "[3632 rows x 2 columns]"
      ]
     },
     "execution_count": 914,
     "metadata": {},
     "output_type": "execute_result"
    }
   ],
   "source": [
    "df"
   ]
  },
  {
   "cell_type": "code",
   "execution_count": 915,
   "metadata": {},
   "outputs": [],
   "source": [
    "for i in range(1,6):\n",
    "     df['Lag ' + str(i)] = df['Today'].shift(i)"
   ]
  },
  {
   "cell_type": "code",
   "execution_count": 916,
   "metadata": {},
   "outputs": [
    {
     "data": {
      "text/html": [
       "<div>\n",
       "<style scoped>\n",
       "    .dataframe tbody tr th:only-of-type {\n",
       "        vertical-align: middle;\n",
       "    }\n",
       "\n",
       "    .dataframe tbody tr th {\n",
       "        vertical-align: top;\n",
       "    }\n",
       "\n",
       "    .dataframe thead th {\n",
       "        text-align: right;\n",
       "    }\n",
       "</style>\n",
       "<table border=\"1\" class=\"dataframe\">\n",
       "  <thead>\n",
       "    <tr style=\"text-align: right;\">\n",
       "      <th></th>\n",
       "      <th>Date</th>\n",
       "      <th>Today</th>\n",
       "      <th>Lag 1</th>\n",
       "      <th>Lag 2</th>\n",
       "      <th>Lag 3</th>\n",
       "      <th>Lag 4</th>\n",
       "      <th>Lag 5</th>\n",
       "    </tr>\n",
       "  </thead>\n",
       "  <tbody>\n",
       "    <tr>\n",
       "      <th>0</th>\n",
       "      <td>2014-09-17</td>\n",
       "      <td>NaN</td>\n",
       "      <td>NaN</td>\n",
       "      <td>NaN</td>\n",
       "      <td>NaN</td>\n",
       "      <td>NaN</td>\n",
       "      <td>NaN</td>\n",
       "    </tr>\n",
       "    <tr>\n",
       "      <th>1</th>\n",
       "      <td>2014-09-18</td>\n",
       "      <td>-7.192558</td>\n",
       "      <td>NaN</td>\n",
       "      <td>NaN</td>\n",
       "      <td>NaN</td>\n",
       "      <td>NaN</td>\n",
       "      <td>NaN</td>\n",
       "    </tr>\n",
       "    <tr>\n",
       "      <th>2</th>\n",
       "      <td>2014-09-19</td>\n",
       "      <td>-6.984265</td>\n",
       "      <td>-7.192558</td>\n",
       "      <td>NaN</td>\n",
       "      <td>NaN</td>\n",
       "      <td>NaN</td>\n",
       "      <td>NaN</td>\n",
       "    </tr>\n",
       "    <tr>\n",
       "      <th>3</th>\n",
       "      <td>2014-09-20</td>\n",
       "      <td>3.573492</td>\n",
       "      <td>-6.984265</td>\n",
       "      <td>-7.192558</td>\n",
       "      <td>NaN</td>\n",
       "      <td>NaN</td>\n",
       "      <td>NaN</td>\n",
       "    </tr>\n",
       "    <tr>\n",
       "      <th>4</th>\n",
       "      <td>2014-09-21</td>\n",
       "      <td>-2.465854</td>\n",
       "      <td>3.573492</td>\n",
       "      <td>-6.984265</td>\n",
       "      <td>-7.192558</td>\n",
       "      <td>NaN</td>\n",
       "      <td>NaN</td>\n",
       "    </tr>\n",
       "    <tr>\n",
       "      <th>...</th>\n",
       "      <td>...</td>\n",
       "      <td>...</td>\n",
       "      <td>...</td>\n",
       "      <td>...</td>\n",
       "      <td>...</td>\n",
       "      <td>...</td>\n",
       "      <td>...</td>\n",
       "    </tr>\n",
       "    <tr>\n",
       "      <th>3627</th>\n",
       "      <td>2024-08-22</td>\n",
       "      <td>-1.296730</td>\n",
       "      <td>3.664288</td>\n",
       "      <td>-0.807921</td>\n",
       "      <td>1.726094</td>\n",
       "      <td>-1.672873</td>\n",
       "      <td>0.993083</td>\n",
       "    </tr>\n",
       "    <tr>\n",
       "      <th>3628</th>\n",
       "      <td>2024-08-23</td>\n",
       "      <td>6.148267</td>\n",
       "      <td>-1.296730</td>\n",
       "      <td>3.664288</td>\n",
       "      <td>-0.807921</td>\n",
       "      <td>1.726094</td>\n",
       "      <td>-1.672873</td>\n",
       "    </tr>\n",
       "    <tr>\n",
       "      <th>3629</th>\n",
       "      <td>2024-08-24</td>\n",
       "      <td>0.132050</td>\n",
       "      <td>6.148267</td>\n",
       "      <td>-1.296730</td>\n",
       "      <td>3.664288</td>\n",
       "      <td>-0.807921</td>\n",
       "      <td>1.726094</td>\n",
       "    </tr>\n",
       "    <tr>\n",
       "      <th>3630</th>\n",
       "      <td>2024-08-25</td>\n",
       "      <td>0.240812</td>\n",
       "      <td>0.132050</td>\n",
       "      <td>6.148267</td>\n",
       "      <td>-1.296730</td>\n",
       "      <td>3.664288</td>\n",
       "      <td>-0.807921</td>\n",
       "    </tr>\n",
       "    <tr>\n",
       "      <th>3631</th>\n",
       "      <td>2024-08-27</td>\n",
       "      <td>-1.995011</td>\n",
       "      <td>0.240812</td>\n",
       "      <td>0.132050</td>\n",
       "      <td>6.148267</td>\n",
       "      <td>-1.296730</td>\n",
       "      <td>3.664288</td>\n",
       "    </tr>\n",
       "  </tbody>\n",
       "</table>\n",
       "<p>3632 rows × 7 columns</p>\n",
       "</div>"
      ],
      "text/plain": [
       "           Date     Today     Lag 1     Lag 2     Lag 3     Lag 4     Lag 5\n",
       "0    2014-09-17       NaN       NaN       NaN       NaN       NaN       NaN\n",
       "1    2014-09-18 -7.192558       NaN       NaN       NaN       NaN       NaN\n",
       "2    2014-09-19 -6.984265 -7.192558       NaN       NaN       NaN       NaN\n",
       "3    2014-09-20  3.573492 -6.984265 -7.192558       NaN       NaN       NaN\n",
       "4    2014-09-21 -2.465854  3.573492 -6.984265 -7.192558       NaN       NaN\n",
       "...         ...       ...       ...       ...       ...       ...       ...\n",
       "3627 2024-08-22 -1.296730  3.664288 -0.807921  1.726094 -1.672873  0.993083\n",
       "3628 2024-08-23  6.148267 -1.296730  3.664288 -0.807921  1.726094 -1.672873\n",
       "3629 2024-08-24  0.132050  6.148267 -1.296730  3.664288 -0.807921  1.726094\n",
       "3630 2024-08-25  0.240812  0.132050  6.148267 -1.296730  3.664288 -0.807921\n",
       "3631 2024-08-27 -1.995011  0.240812  0.132050  6.148267 -1.296730  3.664288\n",
       "\n",
       "[3632 rows x 7 columns]"
      ]
     },
     "execution_count": 916,
     "metadata": {},
     "output_type": "execute_result"
    }
   ],
   "source": [
    "df"
   ]
  },
  {
   "cell_type": "code",
   "execution_count": 917,
   "metadata": {},
   "outputs": [
    {
     "name": "stdout",
     "output_type": "stream",
     "text": [
      "Index(['Date', 'Today', 'Lag 1', 'Lag 2', 'Lag 3', 'Lag 4', 'Lag 5'], dtype='object')\n"
     ]
    }
   ],
   "source": [
    "print(df.columns)"
   ]
  },
  {
   "cell_type": "code",
   "execution_count": 918,
   "metadata": {},
   "outputs": [],
   "source": [
    "df['Volume'] = data.Volume.shift(1).values/1000_000_000"
   ]
  },
  {
   "cell_type": "code",
   "execution_count": 919,
   "metadata": {},
   "outputs": [],
   "source": [
    "df = df.dropna()"
   ]
  },
  {
   "cell_type": "code",
   "execution_count": 920,
   "metadata": {},
   "outputs": [
    {
     "data": {
      "text/html": [
       "<div>\n",
       "<style scoped>\n",
       "    .dataframe tbody tr th:only-of-type {\n",
       "        vertical-align: middle;\n",
       "    }\n",
       "\n",
       "    .dataframe tbody tr th {\n",
       "        vertical-align: top;\n",
       "    }\n",
       "\n",
       "    .dataframe thead th {\n",
       "        text-align: right;\n",
       "    }\n",
       "</style>\n",
       "<table border=\"1\" class=\"dataframe\">\n",
       "  <thead>\n",
       "    <tr style=\"text-align: right;\">\n",
       "      <th></th>\n",
       "      <th>Date</th>\n",
       "      <th>Today</th>\n",
       "      <th>Lag 1</th>\n",
       "      <th>Lag 2</th>\n",
       "      <th>Lag 3</th>\n",
       "      <th>Lag 4</th>\n",
       "      <th>Lag 5</th>\n",
       "      <th>Volume</th>\n",
       "    </tr>\n",
       "  </thead>\n",
       "  <tbody>\n",
       "    <tr>\n",
       "      <th>6</th>\n",
       "      <td>2014-09-23</td>\n",
       "      <td>8.364742</td>\n",
       "      <td>0.835210</td>\n",
       "      <td>-2.465854</td>\n",
       "      <td>3.573492</td>\n",
       "      <td>-6.984265</td>\n",
       "      <td>-7.192558</td>\n",
       "      <td>0.024128</td>\n",
       "    </tr>\n",
       "    <tr>\n",
       "      <th>7</th>\n",
       "      <td>2014-09-24</td>\n",
       "      <td>-2.888081</td>\n",
       "      <td>8.364742</td>\n",
       "      <td>0.835210</td>\n",
       "      <td>-2.465854</td>\n",
       "      <td>3.573492</td>\n",
       "      <td>-6.984265</td>\n",
       "      <td>0.045100</td>\n",
       "    </tr>\n",
       "    <tr>\n",
       "      <th>8</th>\n",
       "      <td>2014-09-25</td>\n",
       "      <td>-2.748309</td>\n",
       "      <td>-2.888081</td>\n",
       "      <td>8.364742</td>\n",
       "      <td>0.835210</td>\n",
       "      <td>-2.465854</td>\n",
       "      <td>3.573492</td>\n",
       "      <td>0.030628</td>\n",
       "    </tr>\n",
       "    <tr>\n",
       "      <th>9</th>\n",
       "      <td>2014-09-26</td>\n",
       "      <td>-1.736994</td>\n",
       "      <td>-2.748309</td>\n",
       "      <td>-2.888081</td>\n",
       "      <td>8.364742</td>\n",
       "      <td>0.835210</td>\n",
       "      <td>-2.465854</td>\n",
       "      <td>0.026814</td>\n",
       "    </tr>\n",
       "    <tr>\n",
       "      <th>10</th>\n",
       "      <td>2014-09-27</td>\n",
       "      <td>-1.212833</td>\n",
       "      <td>-1.736994</td>\n",
       "      <td>-2.748309</td>\n",
       "      <td>-2.888081</td>\n",
       "      <td>8.364742</td>\n",
       "      <td>0.835210</td>\n",
       "      <td>0.021461</td>\n",
       "    </tr>\n",
       "    <tr>\n",
       "      <th>...</th>\n",
       "      <td>...</td>\n",
       "      <td>...</td>\n",
       "      <td>...</td>\n",
       "      <td>...</td>\n",
       "      <td>...</td>\n",
       "      <td>...</td>\n",
       "      <td>...</td>\n",
       "      <td>...</td>\n",
       "    </tr>\n",
       "    <tr>\n",
       "      <th>3627</th>\n",
       "      <td>2024-08-22</td>\n",
       "      <td>-1.296730</td>\n",
       "      <td>3.664288</td>\n",
       "      <td>-0.807921</td>\n",
       "      <td>1.726094</td>\n",
       "      <td>-1.672873</td>\n",
       "      <td>0.993083</td>\n",
       "      <td>32.731154</td>\n",
       "    </tr>\n",
       "    <tr>\n",
       "      <th>3628</th>\n",
       "      <td>2024-08-23</td>\n",
       "      <td>6.148267</td>\n",
       "      <td>-1.296730</td>\n",
       "      <td>3.664288</td>\n",
       "      <td>-0.807921</td>\n",
       "      <td>1.726094</td>\n",
       "      <td>-1.672873</td>\n",
       "      <td>27.625734</td>\n",
       "    </tr>\n",
       "    <tr>\n",
       "      <th>3629</th>\n",
       "      <td>2024-08-24</td>\n",
       "      <td>0.132050</td>\n",
       "      <td>6.148267</td>\n",
       "      <td>-1.296730</td>\n",
       "      <td>3.664288</td>\n",
       "      <td>-0.807921</td>\n",
       "      <td>1.726094</td>\n",
       "      <td>42.530509</td>\n",
       "    </tr>\n",
       "    <tr>\n",
       "      <th>3630</th>\n",
       "      <td>2024-08-25</td>\n",
       "      <td>0.240812</td>\n",
       "      <td>0.132050</td>\n",
       "      <td>6.148267</td>\n",
       "      <td>-1.296730</td>\n",
       "      <td>3.664288</td>\n",
       "      <td>-0.807921</td>\n",
       "      <td>21.430585</td>\n",
       "    </tr>\n",
       "    <tr>\n",
       "      <th>3631</th>\n",
       "      <td>2024-08-27</td>\n",
       "      <td>-1.995011</td>\n",
       "      <td>0.240812</td>\n",
       "      <td>0.132050</td>\n",
       "      <td>6.148267</td>\n",
       "      <td>-1.296730</td>\n",
       "      <td>3.664288</td>\n",
       "      <td>18.827684</td>\n",
       "    </tr>\n",
       "  </tbody>\n",
       "</table>\n",
       "<p>3626 rows × 8 columns</p>\n",
       "</div>"
      ],
      "text/plain": [
       "           Date     Today     Lag 1  ...     Lag 4     Lag 5     Volume\n",
       "6    2014-09-23  8.364742  0.835210  ... -6.984265 -7.192558   0.024128\n",
       "7    2014-09-24 -2.888081  8.364742  ...  3.573492 -6.984265   0.045100\n",
       "8    2014-09-25 -2.748309 -2.888081  ... -2.465854  3.573492   0.030628\n",
       "9    2014-09-26 -1.736994 -2.748309  ...  0.835210 -2.465854   0.026814\n",
       "10   2014-09-27 -1.212833 -1.736994  ...  8.364742  0.835210   0.021461\n",
       "...         ...       ...       ...  ...       ...       ...        ...\n",
       "3627 2024-08-22 -1.296730  3.664288  ... -1.672873  0.993083  32.731154\n",
       "3628 2024-08-23  6.148267 -1.296730  ...  1.726094 -1.672873  27.625734\n",
       "3629 2024-08-24  0.132050  6.148267  ... -0.807921  1.726094  42.530509\n",
       "3630 2024-08-25  0.240812  0.132050  ...  3.664288 -0.807921  21.430585\n",
       "3631 2024-08-27 -1.995011  0.240812  ... -1.296730  3.664288  18.827684\n",
       "\n",
       "[3626 rows x 8 columns]"
      ]
     },
     "execution_count": 920,
     "metadata": {},
     "output_type": "execute_result"
    }
   ],
   "source": [
    "df"
   ]
  },
  {
   "cell_type": "code",
   "execution_count": 921,
   "metadata": {},
   "outputs": [],
   "source": [
    "df = sm.add_constant(df)"
   ]
  },
  {
   "cell_type": "code",
   "execution_count": 922,
   "metadata": {},
   "outputs": [],
   "source": [
    "df['Direction'] = [1 if i > 0 else 0 for i in df['Today']]"
   ]
  },
  {
   "cell_type": "code",
   "execution_count": 923,
   "metadata": {},
   "outputs": [
    {
     "data": {
      "text/html": [
       "<div>\n",
       "<style scoped>\n",
       "    .dataframe tbody tr th:only-of-type {\n",
       "        vertical-align: middle;\n",
       "    }\n",
       "\n",
       "    .dataframe tbody tr th {\n",
       "        vertical-align: top;\n",
       "    }\n",
       "\n",
       "    .dataframe thead th {\n",
       "        text-align: right;\n",
       "    }\n",
       "</style>\n",
       "<table border=\"1\" class=\"dataframe\">\n",
       "  <thead>\n",
       "    <tr style=\"text-align: right;\">\n",
       "      <th></th>\n",
       "      <th>const</th>\n",
       "      <th>Date</th>\n",
       "      <th>Today</th>\n",
       "      <th>Lag 1</th>\n",
       "      <th>Lag 2</th>\n",
       "      <th>Lag 3</th>\n",
       "      <th>Lag 4</th>\n",
       "      <th>Lag 5</th>\n",
       "      <th>Volume</th>\n",
       "      <th>Direction</th>\n",
       "    </tr>\n",
       "  </thead>\n",
       "  <tbody>\n",
       "    <tr>\n",
       "      <th>6</th>\n",
       "      <td>1.0</td>\n",
       "      <td>2014-09-23</td>\n",
       "      <td>8.364742</td>\n",
       "      <td>0.835210</td>\n",
       "      <td>-2.465854</td>\n",
       "      <td>3.573492</td>\n",
       "      <td>-6.984265</td>\n",
       "      <td>-7.192558</td>\n",
       "      <td>0.024128</td>\n",
       "      <td>1</td>\n",
       "    </tr>\n",
       "    <tr>\n",
       "      <th>7</th>\n",
       "      <td>1.0</td>\n",
       "      <td>2014-09-24</td>\n",
       "      <td>-2.888081</td>\n",
       "      <td>8.364742</td>\n",
       "      <td>0.835210</td>\n",
       "      <td>-2.465854</td>\n",
       "      <td>3.573492</td>\n",
       "      <td>-6.984265</td>\n",
       "      <td>0.045100</td>\n",
       "      <td>0</td>\n",
       "    </tr>\n",
       "    <tr>\n",
       "      <th>8</th>\n",
       "      <td>1.0</td>\n",
       "      <td>2014-09-25</td>\n",
       "      <td>-2.748309</td>\n",
       "      <td>-2.888081</td>\n",
       "      <td>8.364742</td>\n",
       "      <td>0.835210</td>\n",
       "      <td>-2.465854</td>\n",
       "      <td>3.573492</td>\n",
       "      <td>0.030628</td>\n",
       "      <td>0</td>\n",
       "    </tr>\n",
       "    <tr>\n",
       "      <th>9</th>\n",
       "      <td>1.0</td>\n",
       "      <td>2014-09-26</td>\n",
       "      <td>-1.736994</td>\n",
       "      <td>-2.748309</td>\n",
       "      <td>-2.888081</td>\n",
       "      <td>8.364742</td>\n",
       "      <td>0.835210</td>\n",
       "      <td>-2.465854</td>\n",
       "      <td>0.026814</td>\n",
       "      <td>0</td>\n",
       "    </tr>\n",
       "    <tr>\n",
       "      <th>10</th>\n",
       "      <td>1.0</td>\n",
       "      <td>2014-09-27</td>\n",
       "      <td>-1.212833</td>\n",
       "      <td>-1.736994</td>\n",
       "      <td>-2.748309</td>\n",
       "      <td>-2.888081</td>\n",
       "      <td>8.364742</td>\n",
       "      <td>0.835210</td>\n",
       "      <td>0.021461</td>\n",
       "      <td>0</td>\n",
       "    </tr>\n",
       "    <tr>\n",
       "      <th>...</th>\n",
       "      <td>...</td>\n",
       "      <td>...</td>\n",
       "      <td>...</td>\n",
       "      <td>...</td>\n",
       "      <td>...</td>\n",
       "      <td>...</td>\n",
       "      <td>...</td>\n",
       "      <td>...</td>\n",
       "      <td>...</td>\n",
       "      <td>...</td>\n",
       "    </tr>\n",
       "    <tr>\n",
       "      <th>3627</th>\n",
       "      <td>1.0</td>\n",
       "      <td>2024-08-22</td>\n",
       "      <td>-1.296730</td>\n",
       "      <td>3.664288</td>\n",
       "      <td>-0.807921</td>\n",
       "      <td>1.726094</td>\n",
       "      <td>-1.672873</td>\n",
       "      <td>0.993083</td>\n",
       "      <td>32.731154</td>\n",
       "      <td>0</td>\n",
       "    </tr>\n",
       "    <tr>\n",
       "      <th>3628</th>\n",
       "      <td>1.0</td>\n",
       "      <td>2024-08-23</td>\n",
       "      <td>6.148267</td>\n",
       "      <td>-1.296730</td>\n",
       "      <td>3.664288</td>\n",
       "      <td>-0.807921</td>\n",
       "      <td>1.726094</td>\n",
       "      <td>-1.672873</td>\n",
       "      <td>27.625734</td>\n",
       "      <td>1</td>\n",
       "    </tr>\n",
       "    <tr>\n",
       "      <th>3629</th>\n",
       "      <td>1.0</td>\n",
       "      <td>2024-08-24</td>\n",
       "      <td>0.132050</td>\n",
       "      <td>6.148267</td>\n",
       "      <td>-1.296730</td>\n",
       "      <td>3.664288</td>\n",
       "      <td>-0.807921</td>\n",
       "      <td>1.726094</td>\n",
       "      <td>42.530509</td>\n",
       "      <td>1</td>\n",
       "    </tr>\n",
       "    <tr>\n",
       "      <th>3630</th>\n",
       "      <td>1.0</td>\n",
       "      <td>2024-08-25</td>\n",
       "      <td>0.240812</td>\n",
       "      <td>0.132050</td>\n",
       "      <td>6.148267</td>\n",
       "      <td>-1.296730</td>\n",
       "      <td>3.664288</td>\n",
       "      <td>-0.807921</td>\n",
       "      <td>21.430585</td>\n",
       "      <td>1</td>\n",
       "    </tr>\n",
       "    <tr>\n",
       "      <th>3631</th>\n",
       "      <td>1.0</td>\n",
       "      <td>2024-08-27</td>\n",
       "      <td>-1.995011</td>\n",
       "      <td>0.240812</td>\n",
       "      <td>0.132050</td>\n",
       "      <td>6.148267</td>\n",
       "      <td>-1.296730</td>\n",
       "      <td>3.664288</td>\n",
       "      <td>18.827684</td>\n",
       "      <td>0</td>\n",
       "    </tr>\n",
       "  </tbody>\n",
       "</table>\n",
       "<p>3626 rows × 10 columns</p>\n",
       "</div>"
      ],
      "text/plain": [
       "      const       Date     Today  ...     Lag 5     Volume  Direction\n",
       "6       1.0 2014-09-23  8.364742  ... -7.192558   0.024128          1\n",
       "7       1.0 2014-09-24 -2.888081  ... -6.984265   0.045100          0\n",
       "8       1.0 2014-09-25 -2.748309  ...  3.573492   0.030628          0\n",
       "9       1.0 2014-09-26 -1.736994  ... -2.465854   0.026814          0\n",
       "10      1.0 2014-09-27 -1.212833  ...  0.835210   0.021461          0\n",
       "...     ...        ...       ...  ...       ...        ...        ...\n",
       "3627    1.0 2024-08-22 -1.296730  ...  0.993083  32.731154          0\n",
       "3628    1.0 2024-08-23  6.148267  ... -1.672873  27.625734          1\n",
       "3629    1.0 2024-08-24  0.132050  ...  1.726094  42.530509          1\n",
       "3630    1.0 2024-08-25  0.240812  ... -0.807921  21.430585          1\n",
       "3631    1.0 2024-08-27 -1.995011  ...  3.664288  18.827684          0\n",
       "\n",
       "[3626 rows x 10 columns]"
      ]
     },
     "execution_count": 923,
     "metadata": {},
     "output_type": "execute_result"
    }
   ],
   "source": [
    "df"
   ]
  },
  {
   "cell_type": "code",
   "execution_count": 924,
   "metadata": {},
   "outputs": [],
   "source": [
    "X = df[['const','Lag 1', 'Lag 2', 'Lag 3', 'Lag 4', 'Lag 5', 'Volume']]"
   ]
  },
  {
   "cell_type": "code",
   "execution_count": 925,
   "metadata": {},
   "outputs": [],
   "source": [
    "y = df.Direction "
   ]
  },
  {
   "cell_type": "code",
   "execution_count": 926,
   "metadata": {},
   "outputs": [],
   "source": [
    "model = sm.Logit(y, X)"
   ]
  },
  {
   "cell_type": "code",
   "execution_count": 927,
   "metadata": {},
   "outputs": [
    {
     "name": "stdout",
     "output_type": "stream",
     "text": [
      "Optimization terminated successfully.\n",
      "         Current function value: 0.689034\n",
      "         Iterations 4\n"
     ]
    }
   ],
   "source": [
    "result = model.fit()"
   ]
  },
  {
   "cell_type": "code",
   "execution_count": 928,
   "metadata": {},
   "outputs": [
    {
     "data": {
      "text/html": [
       "<table class=\"simpletable\">\n",
       "<caption>Logit Regression Results</caption>\n",
       "<tr>\n",
       "  <th>Dep. Variable:</th>       <td>Direction</td>    <th>  No. Observations:  </th>  <td>  3626</td> \n",
       "</tr>\n",
       "<tr>\n",
       "  <th>Model:</th>                 <td>Logit</td>      <th>  Df Residuals:      </th>  <td>  3619</td> \n",
       "</tr>\n",
       "<tr>\n",
       "  <th>Method:</th>                 <td>MLE</td>       <th>  Df Model:          </th>  <td>     6</td> \n",
       "</tr>\n",
       "<tr>\n",
       "  <th>Date:</th>            <td>Tue, 27 Aug 2024</td> <th>  Pseudo R-squ.:     </th> <td>0.003568</td>\n",
       "</tr>\n",
       "<tr>\n",
       "  <th>Time:</th>                <td>09:08:44</td>     <th>  Log-Likelihood:    </th> <td> -2498.4</td>\n",
       "</tr>\n",
       "<tr>\n",
       "  <th>converged:</th>             <td>True</td>       <th>  LL-Null:           </th> <td> -2507.4</td>\n",
       "</tr>\n",
       "<tr>\n",
       "  <th>Covariance Type:</th>     <td>nonrobust</td>    <th>  LLR p-value:       </th> <td>0.006508</td>\n",
       "</tr>\n",
       "</table>\n",
       "<table class=\"simpletable\">\n",
       "<tr>\n",
       "     <td></td>       <th>coef</th>     <th>std err</th>      <th>z</th>      <th>P>|z|</th>  <th>[0.025</th>    <th>0.975]</th>  \n",
       "</tr>\n",
       "<tr>\n",
       "  <th>const</th>  <td>    0.1863</td> <td>    0.046</td> <td>    4.084</td> <td> 0.000</td> <td>    0.097</td> <td>    0.276</td>\n",
       "</tr>\n",
       "<tr>\n",
       "  <th>Lag 1</th>  <td>   -0.0313</td> <td>    0.009</td> <td>   -3.376</td> <td> 0.001</td> <td>   -0.049</td> <td>   -0.013</td>\n",
       "</tr>\n",
       "<tr>\n",
       "  <th>Lag 2</th>  <td>   -0.0053</td> <td>    0.009</td> <td>   -0.573</td> <td> 0.566</td> <td>   -0.023</td> <td>    0.013</td>\n",
       "</tr>\n",
       "<tr>\n",
       "  <th>Lag 3</th>  <td>    0.0111</td> <td>    0.009</td> <td>    1.213</td> <td> 0.225</td> <td>   -0.007</td> <td>    0.029</td>\n",
       "</tr>\n",
       "<tr>\n",
       "  <th>Lag 4</th>  <td>    0.0008</td> <td>    0.009</td> <td>    0.089</td> <td> 0.929</td> <td>   -0.017</td> <td>    0.019</td>\n",
       "</tr>\n",
       "<tr>\n",
       "  <th>Lag 5</th>  <td>   -0.0054</td> <td>    0.009</td> <td>   -0.594</td> <td> 0.553</td> <td>   -0.023</td> <td>    0.013</td>\n",
       "</tr>\n",
       "<tr>\n",
       "  <th>Volume</th> <td>   -0.0037</td> <td>    0.002</td> <td>   -2.105</td> <td> 0.035</td> <td>   -0.007</td> <td>   -0.000</td>\n",
       "</tr>\n",
       "</table>"
      ],
      "text/latex": [
       "\\begin{center}\n",
       "\\begin{tabular}{lclc}\n",
       "\\toprule\n",
       "\\textbf{Dep. Variable:}   &    Direction     & \\textbf{  No. Observations:  } &     3626    \\\\\n",
       "\\textbf{Model:}           &      Logit       & \\textbf{  Df Residuals:      } &     3619    \\\\\n",
       "\\textbf{Method:}          &       MLE        & \\textbf{  Df Model:          } &        6    \\\\\n",
       "\\textbf{Date:}            & Tue, 27 Aug 2024 & \\textbf{  Pseudo R-squ.:     } &  0.003568   \\\\\n",
       "\\textbf{Time:}            &     09:08:44     & \\textbf{  Log-Likelihood:    } &   -2498.4   \\\\\n",
       "\\textbf{converged:}       &       True       & \\textbf{  LL-Null:           } &   -2507.4   \\\\\n",
       "\\textbf{Covariance Type:} &    nonrobust     & \\textbf{  LLR p-value:       } &  0.006508   \\\\\n",
       "\\bottomrule\n",
       "\\end{tabular}\n",
       "\\begin{tabular}{lcccccc}\n",
       "                & \\textbf{coef} & \\textbf{std err} & \\textbf{z} & \\textbf{P$> |$z$|$} & \\textbf{[0.025} & \\textbf{0.975]}  \\\\\n",
       "\\midrule\n",
       "\\textbf{const}  &       0.1863  &        0.046     &     4.084  &         0.000        &        0.097    &        0.276     \\\\\n",
       "\\textbf{Lag 1}  &      -0.0313  &        0.009     &    -3.376  &         0.001        &       -0.049    &       -0.013     \\\\\n",
       "\\textbf{Lag 2}  &      -0.0053  &        0.009     &    -0.573  &         0.566        &       -0.023    &        0.013     \\\\\n",
       "\\textbf{Lag 3}  &       0.0111  &        0.009     &     1.213  &         0.225        &       -0.007    &        0.029     \\\\\n",
       "\\textbf{Lag 4}  &       0.0008  &        0.009     &     0.089  &         0.929        &       -0.017    &        0.019     \\\\\n",
       "\\textbf{Lag 5}  &      -0.0054  &        0.009     &    -0.594  &         0.553        &       -0.023    &        0.013     \\\\\n",
       "\\textbf{Volume} &      -0.0037  &        0.002     &    -2.105  &         0.035        &       -0.007    &       -0.000     \\\\\n",
       "\\bottomrule\n",
       "\\end{tabular}\n",
       "%\\caption{Logit Regression Results}\n",
       "\\end{center}"
      ],
      "text/plain": [
       "<class 'statsmodels.iolib.summary.Summary'>\n",
       "\"\"\"\n",
       "                           Logit Regression Results                           \n",
       "==============================================================================\n",
       "Dep. Variable:              Direction   No. Observations:                 3626\n",
       "Model:                          Logit   Df Residuals:                     3619\n",
       "Method:                           MLE   Df Model:                            6\n",
       "Date:                Tue, 27 Aug 2024   Pseudo R-squ.:                0.003568\n",
       "Time:                        09:08:44   Log-Likelihood:                -2498.4\n",
       "converged:                       True   LL-Null:                       -2507.4\n",
       "Covariance Type:            nonrobust   LLR p-value:                  0.006508\n",
       "==============================================================================\n",
       "                 coef    std err          z      P>|z|      [0.025      0.975]\n",
       "------------------------------------------------------------------------------\n",
       "const          0.1863      0.046      4.084      0.000       0.097       0.276\n",
       "Lag 1         -0.0313      0.009     -3.376      0.001      -0.049      -0.013\n",
       "Lag 2         -0.0053      0.009     -0.573      0.566      -0.023       0.013\n",
       "Lag 3          0.0111      0.009      1.213      0.225      -0.007       0.029\n",
       "Lag 4          0.0008      0.009      0.089      0.929      -0.017       0.019\n",
       "Lag 5         -0.0054      0.009     -0.594      0.553      -0.023       0.013\n",
       "Volume        -0.0037      0.002     -2.105      0.035      -0.007      -0.000\n",
       "==============================================================================\n",
       "\"\"\""
      ]
     },
     "execution_count": 928,
     "metadata": {},
     "output_type": "execute_result"
    }
   ],
   "source": [
    "result.summary()"
   ]
  },
  {
   "cell_type": "code",
   "execution_count": 929,
   "metadata": {},
   "outputs": [],
   "source": [
    "predictions = result.predict(X)"
   ]
  },
  {
   "cell_type": "code",
   "execution_count": 930,
   "metadata": {},
   "outputs": [
    {
     "data": {
      "text/plain": [
       "6       0.561232\n",
       "7       0.483345\n",
       "8       0.554918\n",
       "9       0.597365\n",
       "10      0.556077\n",
       "          ...   \n",
       "3627    0.491876\n",
       "3628    0.526780\n",
       "3629    0.468642\n",
       "3630    0.515933\n",
       "3631    0.538922\n",
       "Length: 3626, dtype: float64"
      ]
     },
     "execution_count": 930,
     "metadata": {},
     "output_type": "execute_result"
    }
   ],
   "source": [
    "predictions    "
   ]
  },
  {
   "cell_type": "code",
   "execution_count": 931,
   "metadata": {},
   "outputs": [
    {
     "data": {
      "text/plain": [
       "6       1\n",
       "7       0\n",
       "8       0\n",
       "9       0\n",
       "10      0\n",
       "       ..\n",
       "3627    0\n",
       "3628    1\n",
       "3629    1\n",
       "3630    1\n",
       "3631    0\n",
       "Name: Direction, Length: 3626, dtype: int64"
      ]
     },
     "execution_count": 931,
     "metadata": {},
     "output_type": "execute_result"
    }
   ],
   "source": [
    "y"
   ]
  },
  {
   "cell_type": "code",
   "execution_count": 932,
   "metadata": {},
   "outputs": [],
   "source": [
    "def confusion_matrix(act, pred):\n",
    "     predtrans = ['Up' if i > 0.5 else 'Down' for i in pred]\n",
    "     actstrans = ['Up' if i > 0 else 'Down' for i in act]\n",
    "     confusion_matrix = pd.crosstab(pd.Series(actstrans), pd.Series(predtrans), rownames=['Actual'], colnames=['Predicted'])\n",
    "     return confusion_matrix"
   ]
  },
  {
   "cell_type": "code",
   "execution_count": 933,
   "metadata": {},
   "outputs": [
    {
     "data": {
      "text/html": [
       "<div>\n",
       "<style scoped>\n",
       "    .dataframe tbody tr th:only-of-type {\n",
       "        vertical-align: middle;\n",
       "    }\n",
       "\n",
       "    .dataframe tbody tr th {\n",
       "        vertical-align: top;\n",
       "    }\n",
       "\n",
       "    .dataframe thead th {\n",
       "        text-align: right;\n",
       "    }\n",
       "</style>\n",
       "<table border=\"1\" class=\"dataframe\">\n",
       "  <thead>\n",
       "    <tr style=\"text-align: right;\">\n",
       "      <th>Predicted</th>\n",
       "      <th>Down</th>\n",
       "      <th>Up</th>\n",
       "    </tr>\n",
       "    <tr>\n",
       "      <th>Actual</th>\n",
       "      <th></th>\n",
       "      <th></th>\n",
       "    </tr>\n",
       "  </thead>\n",
       "  <tbody>\n",
       "    <tr>\n",
       "      <th>Down</th>\n",
       "      <td>302</td>\n",
       "      <td>1407</td>\n",
       "    </tr>\n",
       "    <tr>\n",
       "      <th>Up</th>\n",
       "      <td>275</td>\n",
       "      <td>1642</td>\n",
       "    </tr>\n",
       "  </tbody>\n",
       "</table>\n",
       "</div>"
      ],
      "text/plain": [
       "Predicted  Down    Up\n",
       "Actual               \n",
       "Down        302  1407\n",
       "Up          275  1642"
      ]
     },
     "execution_count": 933,
     "metadata": {},
     "output_type": "execute_result"
    }
   ],
   "source": [
    "confusion_matrix(y, predictions)"
   ]
  },
  {
   "cell_type": "code",
   "execution_count": 934,
   "metadata": {},
   "outputs": [
    {
     "data": {
      "text/plain": [
       "3626"
      ]
     },
     "execution_count": 934,
     "metadata": {},
     "output_type": "execute_result"
    }
   ],
   "source": [
    "len(df)"
   ]
  },
  {
   "cell_type": "code",
   "execution_count": 935,
   "metadata": {},
   "outputs": [
    {
     "data": {
      "text/plain": [
       "0.5286817429674573"
      ]
     },
     "execution_count": 935,
     "metadata": {},
     "output_type": "execute_result"
    }
   ],
   "source": [
    "(788+1129)/3626"
   ]
  },
  {
   "cell_type": "code",
   "execution_count": 936,
   "metadata": {},
   "outputs": [
    {
     "name": "stdout",
     "output_type": "stream",
     "text": [
      "Index(['const', 'Date', 'Today', 'Lag 1', 'Lag 2', 'Lag 3', 'Lag 4', 'Lag 5',\n",
      "       'Volume', 'Direction'],\n",
      "      dtype='object')\n"
     ]
    }
   ],
   "source": [
    "print(df.columns)"
   ]
  },
  {
   "cell_type": "code",
   "execution_count": 937,
   "metadata": {},
   "outputs": [],
   "source": [
    "# Adjust the year filter to include years present in the data\n",
    "x_train = df[df.Date.dt.year <= 2019][['const', 'Lag 1', 'Lag 2', 'Lag 3', 'Lag 4', 'Lag 5', 'Volume']]\n",
    "y_train = df[df.Date.dt.year <= 2019]['Direction']\n",
    "x_test = df[df.Date.dt.year == 2019][['const', 'Lag 1', 'Lag 2', 'Lag 3', 'Lag 4', 'Lag 5', 'Volume']]\n",
    "y_test = df[df.Date.dt.year == 2019]['Direction']\n",
    "\n",
    "\n",
    "\n",
    "model = sm.Logit(y_train, x_train)"
   ]
  },
  {
   "cell_type": "code",
   "execution_count": 938,
   "metadata": {},
   "outputs": [],
   "source": [
    "model = sm.Logit(y_train, x_train)"
   ]
  },
  {
   "cell_type": "code",
   "execution_count": 939,
   "metadata": {},
   "outputs": [
    {
     "name": "stdout",
     "output_type": "stream",
     "text": [
      "Optimization terminated successfully.\n",
      "         Current function value: 0.686297\n",
      "         Iterations 4\n"
     ]
    }
   ],
   "source": [
    "result = model.fit()"
   ]
  },
  {
   "cell_type": "code",
   "execution_count": 940,
   "metadata": {},
   "outputs": [],
   "source": [
    "predictions = result.predict(x_test)"
   ]
  },
  {
   "cell_type": "code",
   "execution_count": 941,
   "metadata": {},
   "outputs": [
    {
     "data": {
      "text/html": [
       "<div>\n",
       "<style scoped>\n",
       "    .dataframe tbody tr th:only-of-type {\n",
       "        vertical-align: middle;\n",
       "    }\n",
       "\n",
       "    .dataframe tbody tr th {\n",
       "        vertical-align: top;\n",
       "    }\n",
       "\n",
       "    .dataframe thead th {\n",
       "        text-align: right;\n",
       "    }\n",
       "</style>\n",
       "<table border=\"1\" class=\"dataframe\">\n",
       "  <thead>\n",
       "    <tr style=\"text-align: right;\">\n",
       "      <th>Predicted</th>\n",
       "      <th>Down</th>\n",
       "      <th>Up</th>\n",
       "    </tr>\n",
       "    <tr>\n",
       "      <th>Actual</th>\n",
       "      <th></th>\n",
       "      <th></th>\n",
       "    </tr>\n",
       "  </thead>\n",
       "  <tbody>\n",
       "    <tr>\n",
       "      <th>Down</th>\n",
       "      <td>43</td>\n",
       "      <td>131</td>\n",
       "    </tr>\n",
       "    <tr>\n",
       "      <th>Up</th>\n",
       "      <td>54</td>\n",
       "      <td>137</td>\n",
       "    </tr>\n",
       "  </tbody>\n",
       "</table>\n",
       "</div>"
      ],
      "text/plain": [
       "Predicted  Down   Up\n",
       "Actual              \n",
       "Down         43  131\n",
       "Up           54  137"
      ]
     },
     "execution_count": 941,
     "metadata": {},
     "output_type": "execute_result"
    }
   ],
   "source": [
    "confusion_matrix(y_test, predictions)"
   ]
  },
  {
   "cell_type": "code",
   "execution_count": 942,
   "metadata": {},
   "outputs": [
    {
     "data": {
      "text/plain": [
       "0.4931506849315068"
      ]
     },
     "execution_count": 942,
     "metadata": {},
     "output_type": "execute_result"
    }
   ],
   "source": [
    "(43+137)/len(x_test)"
   ]
  },
  {
   "cell_type": "code",
   "execution_count": null,
   "metadata": {},
   "outputs": [],
   "source": []
  }
 ],
 "metadata": {
  "kernelspec": {
   "display_name": "base",
   "language": "python",
   "name": "python3"
  },
  "language_info": {
   "codemirror_mode": {
    "name": "ipython",
    "version": 3
   },
   "file_extension": ".py",
   "mimetype": "text/x-python",
   "name": "python",
   "nbconvert_exporter": "python",
   "pygments_lexer": "ipython3",
   "version": "3.12.2"
  }
 },
 "nbformat": 4,
 "nbformat_minor": 2
}
